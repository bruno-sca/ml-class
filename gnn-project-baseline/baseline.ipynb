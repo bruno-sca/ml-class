{
 "cells": [
  {
   "cell_type": "code",
   "execution_count": 1,
   "metadata": {},
   "outputs": [],
   "source": [
    "import dgl\n",
    "import torch\n",
    "import torch.nn as nn\n",
    "import torch.nn.functional as F"
   ]
  },
  {
   "cell_type": "markdown",
   "metadata": {},
   "source": [
    "## Importing dataset"
   ]
  },
  {
   "cell_type": "code",
   "execution_count": 13,
   "metadata": {},
   "outputs": [
    {
     "name": "stdout",
     "output_type": "stream",
     "text": [
      "Done loading data from cached files.\n",
      "{'_ID': tensor([    0,     1,     2,  ..., 11941, 11942, 11943]), '_TYPE': tensor([0, 0, 0,  ..., 0, 0, 0])}\n"
     ]
    }
   ],
   "source": [
    "from dgl.data import FraudAmazonDataset\n",
    "\n",
    "dataset = FraudAmazonDataset()\n",
    "\n",
    "g_raw = dataset[0]\n",
    "train_nid = torch.nonzero(g_raw.ndata['train_mask'], as_tuple=True)[0]\n",
    "# convert to homogeneous graph\n",
    "g_homo = dgl.to_homogeneous(g_raw)\n",
    "# build train graph\n",
    "g_train = g_homo.subgraph(train_nid)\n",
    "\n",
    "print(g_homo.ndata)\n"
   ]
  },
  {
   "cell_type": "markdown",
   "metadata": {},
   "source": [
    "## Creating the model"
   ]
  },
  {
   "cell_type": "code",
   "execution_count": 3,
   "metadata": {},
   "outputs": [],
   "source": [
    "from dgl.nn import GraphConv\n",
    "\n",
    "class GCN(nn.Module):\n",
    "    def __init__(self, in_feats, h_feats, num_classes):\n",
    "        super(GCN, self).__init__()\n",
    "        self.conv1 = GraphConv(in_feats, h_feats)\n",
    "        self.conv2 = GraphConv(h_feats, num_classes)\n",
    "\n",
    "    def forward(self, g, in_feat):\n",
    "        h = self.conv1(g, in_feat)\n",
    "        h = F.relu(h)\n",
    "        h = self.conv2(g, h)\n",
    "        return h"
   ]
  },
  {
   "cell_type": "markdown",
   "metadata": {},
   "source": [
    "## Training the model"
   ]
  },
  {
   "cell_type": "code",
   "execution_count": 14,
   "metadata": {},
   "outputs": [
    {
     "name": "stderr",
     "output_type": "stream",
     "text": [
      "/tmp/ipykernel_57061/2926700447.py:25: UserWarning: indexing with dtype torch.uint8 is now deprecated, please use a dtype torch.bool instead. (Triggered internally at ../aten/src/ATen/native/IndexingUtils.h:27.)\n",
      "  loss = F.cross_entropy(logits[train_mask], labels[train_mask])\n",
      "/tmp/ipykernel_57061/2926700447.py:28: UserWarning: indexing with dtype torch.uint8 is now deprecated, please use a dtype torch.bool instead. (Triggered internally at ../aten/src/ATen/native/IndexingUtils.h:27.)\n",
      "  train_acc = (pred[train_mask] == labels[train_mask]).float().mean()\n",
      "/tmp/ipykernel_57061/2926700447.py:29: UserWarning: indexing with dtype torch.uint8 is now deprecated, please use a dtype torch.bool instead. (Triggered internally at ../aten/src/ATen/native/IndexingUtils.h:27.)\n",
      "  val_acc = (pred[val_mask] == labels[val_mask]).float().mean()\n",
      "/tmp/ipykernel_57061/2926700447.py:30: UserWarning: indexing with dtype torch.uint8 is now deprecated, please use a dtype torch.bool instead. (Triggered internally at ../aten/src/ATen/native/IndexingUtils.h:27.)\n",
      "  test_acc = (pred[test_mask] == labels[test_mask]).float().mean()\n",
      "/home/bruno/prog/rural/ml-class/gnn-project-baseline/.venv/lib/python3.10/site-packages/torch/autograd/__init__.py:251: UserWarning: indexing with dtype torch.uint8 is now deprecated, please use a dtype torch.bool instead. (Triggered internally at ../aten/src/ATen/native/IndexingUtils.h:27.)\n",
      "  Variable._execution_engine.run_backward(  # Calls into the C++ engine to run the backward pass\n"
     ]
    },
    {
     "name": "stdout",
     "output_type": "stream",
     "text": [
      "In epoch 0, loss: 100.124, val acc: 0.075 (best 0.075), test acc: 0.106 (best 0.106)\n",
      "In epoch 5, loss: 1.471, val acc: 0.925 (best 0.925), test acc: 0.894 (best 0.894)\n",
      "In epoch 10, loss: 4.490, val acc: 0.925 (best 0.925), test acc: 0.894 (best 0.894)\n",
      "In epoch 15, loss: 5.864, val acc: 0.925 (best 0.925), test acc: 0.894 (best 0.894)\n",
      "In epoch 20, loss: 6.339, val acc: 0.925 (best 0.925), test acc: 0.894 (best 0.894)\n",
      "In epoch 25, loss: 6.276, val acc: 0.925 (best 0.925), test acc: 0.894 (best 0.894)\n",
      "In epoch 30, loss: 5.887, val acc: 0.925 (best 0.925), test acc: 0.894 (best 0.894)\n",
      "In epoch 35, loss: 5.307, val acc: 0.925 (best 0.925), test acc: 0.894 (best 0.894)\n",
      "In epoch 40, loss: 4.619, val acc: 0.925 (best 0.925), test acc: 0.894 (best 0.894)\n",
      "In epoch 45, loss: 3.873, val acc: 0.925 (best 0.925), test acc: 0.894 (best 0.894)\n",
      "In epoch 50, loss: 3.098, val acc: 0.925 (best 0.925), test acc: 0.894 (best 0.894)\n",
      "In epoch 55, loss: 2.309, val acc: 0.925 (best 0.925), test acc: 0.894 (best 0.894)\n",
      "In epoch 60, loss: 1.513, val acc: 0.925 (best 0.925), test acc: 0.894 (best 0.894)\n",
      "In epoch 65, loss: 0.716, val acc: 0.925 (best 0.925), test acc: 0.894 (best 0.894)\n",
      "In epoch 70, loss: 0.436, val acc: 0.888 (best 0.925), test acc: 0.870 (best 0.894)\n",
      "In epoch 75, loss: 0.500, val acc: 0.925 (best 0.925), test acc: 0.894 (best 0.894)\n",
      "In epoch 80, loss: 0.421, val acc: 0.925 (best 0.925), test acc: 0.894 (best 0.894)\n",
      "In epoch 85, loss: 0.392, val acc: 0.920 (best 0.925), test acc: 0.887 (best 0.894)\n",
      "In epoch 90, loss: 0.325, val acc: 0.925 (best 0.925), test acc: 0.894 (best 0.894)\n",
      "In epoch 95, loss: 0.282, val acc: 0.925 (best 0.925), test acc: 0.894 (best 0.894)\n"
     ]
    }
   ],
   "source": [
    "def train(g, g_raw, model):\n",
    "    optimizer = torch.optim.Adam(model.parameters(), lr=0.01)\n",
    "    best_val_acc = 0\n",
    "    best_test_acc = 0\n",
    "\n",
    "    features = g_raw.ndata['feature']\n",
    "    labels = g_raw.ndata['label']\n",
    "    train_mask = g_raw.ndata['train_mask']\n",
    "    val_mask = g_raw.ndata['val_mask']\n",
    "    test_mask = g_raw.ndata['test_mask']\n",
    "\n",
    "    train_acc_record = []\n",
    "    val_acc_record = []\n",
    "    test_acc_record = []\n",
    "    \n",
    "    for e in range(100):\n",
    "        # Forward\n",
    "        logits = model(g, features)\n",
    "\n",
    "        # Compute prediction\n",
    "        pred = logits.argmax(1)\n",
    "\n",
    "        # Compute loss\n",
    "        # Note that you should only compute the losses of the nodes in the training set.\n",
    "        loss = F.cross_entropy(logits[train_mask], labels[train_mask])\n",
    "\n",
    "        # Compute accuracy on training/validation/test\n",
    "        train_acc = (pred[train_mask] == labels[train_mask]).float().mean()\n",
    "        val_acc = (pred[val_mask] == labels[val_mask]).float().mean()\n",
    "        test_acc = (pred[test_mask] == labels[test_mask]).float().mean()\n",
    "\n",
    "        train_acc_record.append(train_acc)\n",
    "        val_acc_record.append(val_acc)\n",
    "        test_acc_record.append(test_acc)\n",
    "\n",
    "        # Save the best validation accuracy and the corresponding test accuracy.\n",
    "        if best_val_acc < val_acc:\n",
    "            best_val_acc = val_acc\n",
    "            best_test_acc = test_acc\n",
    "\n",
    "        # Backward\n",
    "        optimizer.zero_grad()\n",
    "        loss.backward()\n",
    "        optimizer.step()\n",
    "\n",
    "        if e % 5 == 0:\n",
    "            print('In epoch {}, loss: {:.3f}, val acc: {:.3f} (best {:.3f}), test acc: {:.3f} (best {:.3f})'.format(\n",
    "                e, loss, val_acc, best_val_acc, test_acc, best_test_acc))\n",
    "    \n",
    "    return train_acc_record, val_acc_record, test_acc_record\n",
    "    \n",
    "\n",
    "model = GCN(g_raw.ndata['feature'].shape[1], 16, dataset.num_classes)\n",
    "train_acc, val_acc, test_acc = train(g, g_raw, model)"
   ]
  }
 ],
 "metadata": {
  "kernelspec": {
   "display_name": ".venv",
   "language": "python",
   "name": "python3"
  },
  "language_info": {
   "codemirror_mode": {
    "name": "ipython",
    "version": 3
   },
   "file_extension": ".py",
   "mimetype": "text/x-python",
   "name": "python",
   "nbconvert_exporter": "python",
   "pygments_lexer": "ipython3",
   "version": "3.10.12"
  }
 },
 "nbformat": 4,
 "nbformat_minor": 2
}
